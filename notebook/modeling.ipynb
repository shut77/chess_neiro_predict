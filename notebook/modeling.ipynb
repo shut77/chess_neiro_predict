{
 "cells": [
  {
   "cell_type": "code",
   "execution_count": 2,
   "id": "d6afc477",
   "metadata": {},
   "outputs": [],
   "source": [
    "import sys, importlib\n",
    "sys.path.append(r\"C:\\Users\\Artem\\Desktop\\vs code project\\chess_forecast\\src\")\n",
    "importlib.reload(importlib.import_module('features'))\n",
    "importlib.reload(importlib.import_module('move'))\n",
    "importlib.reload(importlib.import_module('mymodel'))\n",
    "importlib.reload(importlib.import_module('training'))\n",
    "\n",
    "import features, move, mymodel, training\n",
    "import numpy as np, pandas as pd, torch\n",
    "from torch.utils.data import DataLoader\n",
    "from sklearn.model_selection import train_test_split"
   ]
  },
  {
   "cell_type": "code",
   "execution_count": 3,
   "id": "004f34ab",
   "metadata": {},
   "outputs": [
    {
     "data": {
      "text/plain": [
       "4208"
      ]
     },
     "execution_count": 3,
     "metadata": {},
     "output_type": "execute_result"
    }
   ],
   "source": [
    "ALL_MOVES = move.generate_all_possible_moves()\n",
    "MOVE_TO_INDEX = {m.uci(): i for i, m in enumerate(ALL_MOVES)}\n",
    "INDEX_TO_MOVE = {i: m for i, m in enumerate(ALL_MOVES)}\n",
    "len(MOVE_TO_INDEX)"
   ]
  },
  {
   "cell_type": "code",
   "execution_count": 4,
   "id": "d5f46c0f",
   "metadata": {},
   "outputs": [],
   "source": [
    "path = '../fens_training_set.csv'\n",
    "df = pd.read_csv(path)\n",
    "df = df.drop(232329, axis=0)\n",
    "df = df[:10000]"
   ]
  },
  {
   "cell_type": "code",
   "execution_count": 8,
   "id": "1e497646",
   "metadata": {},
   "outputs": [],
   "source": [
    "#Разделение на train/val\n",
    "train_df, test_df = train_test_split(df, test_size=0.1, random_state=42)\n",
    "\n",
    "train_dataset = mymodel.ChessDataset(train_df, ALL_MOVES, MOVE_TO_INDEX)\n",
    "test_dataset = mymodel.ChessDataset(test_df, ALL_MOVES, MOVE_TO_INDEX)\n",
    "\n",
    "train_loader = DataLoader(train_dataset, batch_size=512, shuffle=True, num_workers=0)\n",
    "test_loader = DataLoader(test_dataset, batch_size=1024, shuffle=False, num_workers=0)"
   ]
  },
  {
   "cell_type": "code",
   "execution_count": null,
   "id": "942986dc",
   "metadata": {},
   "outputs": [],
   "source": [
    "# Модель\n",
    "num_epochs = 5\n",
    "#device = torch.device('cuda' if torch.cuda.is_available() else 'cpu')\n",
    "device = torch.device('cpu')\n",
    "model = mymodel.ChessMovePredictor(num_moves=len(ALL_MOVES)).to(device)\n",
    "optimizer = torch.optim.Adam(model.parameters(), lr=0.001)\n",
    "scheduler = torch.optim.lr_scheduler.OneCycleLR(\n",
    "    optimizer, max_lr=0.01, \n",
    "    epochs=num_epochs, steps_per_epoch=len(train_loader),\n",
    "    pct_start=0.1)\n",
    "criterion = mymodel.ChessMoveLoss()"
   ]
  },
  {
   "cell_type": "code",
   "execution_count": 10,
   "id": "181a871a",
   "metadata": {},
   "outputs": [
    {
     "name": "stdout",
     "output_type": "stream",
     "text": [
      "\n",
      "EPOCH 1/5\n"
     ]
    },
    {
     "name": "stderr",
     "output_type": "stream",
     "text": [
      "Training: 100%|██████████| 18/18 [02:22<00:00,  7.90s/it]\n",
      "Validation: 100%|██████████| 1/1 [00:05<00:00,  5.58s/it]\n"
     ]
    },
    {
     "name": "stdout",
     "output_type": "stream",
     "text": [
      "Train loss: 3.3241, acc: 0.1097\n",
      "Validation: Loss: 15155.4805, Acc@1: 0.048, Acc@3: 0.123, Acc@5: 0.178\n",
      "Модель сохранена.\n",
      "\n",
      "EPOCH 2/5\n"
     ]
    },
    {
     "name": "stderr",
     "output_type": "stream",
     "text": [
      "Training:   0%|          | 0/18 [00:00<?, ?it/s]"
     ]
    },
    {
     "ename": "",
     "evalue": "",
     "output_type": "error",
     "traceback": [
      "\u001b[1;31mThe Kernel crashed while executing code in the current cell or a previous cell. \n",
      "\u001b[1;31mPlease review the code in the cell(s) to identify a possible cause of the failure. \n",
      "\u001b[1;31mClick <a href='https://aka.ms/vscodeJupyterKernelCrash'>here</a> for more info. \n",
      "\u001b[1;31mView Jupyter <a href='command:jupyter.viewOutput'>log</a> for further details."
     ]
    }
   ],
   "source": [
    "#Обучение\n",
    "#Train loss: 1.7564, acc: 0.4661\n",
    "#Validation: Loss: 2.2240, Acc@1: 0.361, Acc@3: 0.598, Acc@5: 0.704\n",
    "best_val_acc = 0\n",
    "for epoch in range(1, num_epochs + 1):\n",
    "    print(f\"\\nEPOCH {epoch}/{num_epochs}\")\n",
    "    train_loss, train_acc = training.train_epoch(model, train_loader, optimizer, criterion, device,scheduler)\n",
    "    val_metrics = training.validate_epoch(model, test_loader, criterion, device)\n",
    "    val_acc = val_metrics['acc1']\n",
    "    print(f\"Train loss: {train_loss:.4f}, acc: {train_acc:.4f}\")\n",
    "    print(f\"Validation: Loss: {val_metrics['loss']:.4f}, \"\n",
    "      f\"Acc@1: {val_metrics['acc1']:.3f}, \"\n",
    "      f\"Acc@3: {val_metrics['acc3']:.3f}, \"\n",
    "      f\"Acc@5: {val_metrics['acc5']:.3f}\")\n",
    "\n",
    "    if val_acc > best_val_acc:\n",
    "        torch.save(model.state_dict(), \"best_chess_model.pt\")\n",
    "        best_val_acc = val_acc\n",
    "        print(\"Модель сохранена.\")"
   ]
  },
  {
   "cell_type": "code",
   "execution_count": 18,
   "id": "897ba4d6",
   "metadata": {},
   "outputs": [
    {
     "name": "stdout",
     "output_type": "stream",
     "text": [
      "{'топ': 1, 'ход': 'a5b6', 'вероятность': 0.23568940162658691}\n",
      "{'топ': 2, 'ход': 'e6d5', 'вероятность': 0.0815194621682167}\n",
      "{'топ': 3, 'ход': 'g6f4', 'вероятность': 0.06445614248514175}\n",
      "{'топ': 4, 'ход': 'f7f5', 'вероятность': 0.048715658485889435}\n",
      "{'топ': 5, 'ход': 'a5d8', 'вероятность': 0.04438405483961105}\n"
     ]
    }
   ],
   "source": [
    "model.load_state_dict(torch.load(\"best_chess_model.pt\", map_location=device))\n",
    "model.eval()\n",
    "\n",
    "fen = \"rnb2rk1/pp3ppp/4p1n1/q1pP4/3P4/1QN1P1B1/PP3PPP/R3KB1R b KQ - 0 11\"\n",
    "top_moves = training.predict_move(model, fen, device, ALL_MOVES, MOVE_TO_INDEX, INDEX_TO_MOVE, top_k=5) #move, prob, all_probs, \n",
    "for i in top_moves:\n",
    "    print(i)"
   ]
  },
  {
   "cell_type": "code",
   "execution_count": null,
   "id": "beb8c848",
   "metadata": {},
   "outputs": [
    {
     "name": "stdout",
     "output_type": "stream",
     "text": [
      "(model, fen_string, device, ALL_MOVES, MOVE_TO_INDEX, INDEX_TO_MOVE, top_k=5)\n"
     ]
    }
   ],
   "source": [
    "import inspect\n",
    "print(inspect.signature(training.predict_move))"
   ]
  }
 ],
 "metadata": {
  "kernelspec": {
   "display_name": ".venv",
   "language": "python",
   "name": ".venv"
  },
  "language_info": {
   "codemirror_mode": {
    "name": "ipython",
    "version": 3
   },
   "file_extension": ".py",
   "mimetype": "text/x-python",
   "name": "python",
   "nbconvert_exporter": "python",
   "pygments_lexer": "ipython3",
   "version": "3.12.3"
  }
 },
 "nbformat": 4,
 "nbformat_minor": 5
}
