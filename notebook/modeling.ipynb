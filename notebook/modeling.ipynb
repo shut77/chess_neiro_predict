{
 "cells": [
  {
   "cell_type": "code",
   "execution_count": null,
   "id": "d6afc477",
   "metadata": {},
   "outputs": [],
   "source": [
    "import sys, importlib\n",
    "sys.path.append(r\"C:\\Users\\Artem\\Desktop\\vs code project\\chess_forecast\\src\")\n",
    "importlib.reload(importlib.import_module('features'))\n",
    "importlib.reload(importlib.import_module('move'))\n",
    "importlib.reload(importlib.import_module('mymodel'))\n",
    "importlib.reload(importlib.import_module('training'))\n",
    "\n",
    "import features, move, mymodel, training\n",
    "import numpy as np, pandas as pd\n",
    "from torch, torch.utils.data import DataLoader\n",
    "from sklearn.model_selection import train_test_split"
   ]
  },
  {
   "cell_type": "code",
   "execution_count": 4,
   "id": "004f34ab",
   "metadata": {},
   "outputs": [
    {
     "data": {
      "text/plain": [
       "4208"
      ]
     },
     "execution_count": 4,
     "metadata": {},
     "output_type": "execute_result"
    }
   ],
   "source": [
    "ALL_MOVES = move.generate_all_possible_moves()\n",
    "MOVE_TO_INDEX = {m.uci(): i for i, m in enumerate(ALL_MOVES)}\n",
    "INDEX_TO_MOVE = {i: m for i, m in enumerate(ALL_MOVES)}\n",
    "len(MOVE_TO_INDEX)"
   ]
  },
  {
   "cell_type": "code",
   "execution_count": 5,
   "id": "d5f46c0f",
   "metadata": {},
   "outputs": [],
   "source": [
    "path = '../fens_training_set.csv'\n",
    "df = pd.read_csv(path)\n",
    "df = df.drop(232329, axis=0)\n",
    "df = df[:10000]"
   ]
  },
  {
   "cell_type": "code",
   "execution_count": 6,
   "id": "1e497646",
   "metadata": {},
   "outputs": [],
   "source": [
    "#Разделение на train/val\n",
    "train_df, test_df = train_test_split(df, test_size=0.1, random_state=42)\n",
    "\n",
    "train_dataset = mymodel.ChessDataset(train_df, ALL_MOVES, MOVE_TO_INDEX)\n",
    "test_dataset = mymodel.ChessDataset(test_df, ALL_MOVES, MOVE_TO_INDEX)\n",
    "\n",
    "train_loader = DataLoader(train_dataset, batch_size=64, shuffle=True, num_workers=0)\n",
    "test_loader = DataLoader(test_dataset, batch_size=64, shuffle=False, num_workers=0)"
   ]
  },
  {
   "cell_type": "code",
   "execution_count": 7,
   "id": "942986dc",
   "metadata": {},
   "outputs": [],
   "source": [
    "# Модель\n",
    "num_epochs = 5\n",
    "device = torch.device('cuda' if torch.cuda.is_available() else 'cpu')\n",
    "model = mymodel.ChessMovePredictor(num_moves=len(ALL_MOVES)).to(device)\n",
    "optimizer = torch.optim.Adam(model.parameters(), lr=0.001)\n",
    "scheduler = torch.optim.lr_scheduler.OneCycleLR(\n",
    "    optimizer, max_lr=0.01, \n",
    "    epochs=num_epochs, steps_per_epoch=len(train_loader),\n",
    "    pct_start=0.1)\n",
    "criterion = mymodel.ChessMoveLoss()"
   ]
  },
  {
   "cell_type": "code",
   "execution_count": 8,
   "id": "181a871a",
   "metadata": {},
   "outputs": [
    {
     "name": "stdout",
     "output_type": "stream",
     "text": [
      "\n",
      "EPOCH 1/5\n"
     ]
    },
    {
     "name": "stderr",
     "output_type": "stream",
     "text": [
      "Training: 100%|██████████| 141/141 [01:25<00:00,  1.64it/s]\n",
      "Validation: 100%|██████████| 16/16 [00:03<00:00,  4.51it/s]\n"
     ]
    },
    {
     "name": "stdout",
     "output_type": "stream",
     "text": [
      "Train loss: 3.0408, acc: 0.1341\n",
      "Validation: Loss: 3.0050, Acc@1: 0.138, Acc@3: 0.318, Acc@5: 0.423\n",
      "Модель сохранена.\n",
      "\n",
      "EPOCH 2/5\n"
     ]
    },
    {
     "name": "stderr",
     "output_type": "stream",
     "text": [
      "Training: 100%|██████████| 141/141 [01:25<00:00,  1.65it/s]\n",
      "Validation: 100%|██████████| 16/16 [00:03<00:00,  4.58it/s]\n"
     ]
    },
    {
     "name": "stdout",
     "output_type": "stream",
     "text": [
      "Train loss: 2.8977, acc: 0.1623\n",
      "Validation: Loss: 2.9597, Acc@1: 0.150, Acc@3: 0.333, Acc@5: 0.457\n",
      "Модель сохранена.\n",
      "\n",
      "EPOCH 3/5\n"
     ]
    },
    {
     "name": "stderr",
     "output_type": "stream",
     "text": [
      "Training: 100%|██████████| 141/141 [01:25<00:00,  1.66it/s]\n",
      "Validation: 100%|██████████| 16/16 [00:03<00:00,  4.69it/s]\n"
     ]
    },
    {
     "name": "stdout",
     "output_type": "stream",
     "text": [
      "Train loss: 2.8312, acc: 0.1767\n",
      "Validation: Loss: 2.9787, Acc@1: 0.161, Acc@3: 0.346, Acc@5: 0.461\n",
      "Модель сохранена.\n",
      "\n",
      "EPOCH 4/5\n"
     ]
    },
    {
     "name": "stderr",
     "output_type": "stream",
     "text": [
      "Training: 100%|██████████| 141/141 [01:25<00:00,  1.66it/s]\n",
      "Validation: 100%|██████████| 16/16 [00:03<00:00,  4.67it/s]\n"
     ]
    },
    {
     "name": "stdout",
     "output_type": "stream",
     "text": [
      "Train loss: 2.7709, acc: 0.1910\n",
      "Validation: Loss: 2.9999, Acc@1: 0.155, Acc@3: 0.345, Acc@5: 0.464\n",
      "\n",
      "EPOCH 5/5\n"
     ]
    },
    {
     "name": "stderr",
     "output_type": "stream",
     "text": [
      "Training: 100%|██████████| 141/141 [01:25<00:00,  1.65it/s]\n",
      "Validation: 100%|██████████| 16/16 [00:03<00:00,  4.70it/s]"
     ]
    },
    {
     "name": "stdout",
     "output_type": "stream",
     "text": [
      "Train loss: 2.7210, acc: 0.2077\n",
      "Validation: Loss: 3.0248, Acc@1: 0.160, Acc@3: 0.350, Acc@5: 0.460\n"
     ]
    },
    {
     "name": "stderr",
     "output_type": "stream",
     "text": [
      "\n"
     ]
    }
   ],
   "source": [
    "#Обучение\n",
    "best_val_acc = 0\n",
    "for epoch in range(1, num_epochs + 1):\n",
    "    print(f\"\\nEPOCH {epoch}/{num_epochs}\")\n",
    "    train_loss, train_acc = training.train_epoch(model, train_loader, optimizer, criterion, device, scheduler)\n",
    "    val_metrics = training.validate_epoch(model, test_loader, criterion, device)\n",
    "    val_acc = val_metrics['acc1']\n",
    "    print(f\"Train loss: {train_loss:.4f}, acc: {train_acc:.4f}\")\n",
    "    print(f\"Validation: Loss: {val_metrics['loss']:.4f}, \"\n",
    "      f\"Acc@1: {val_metrics['acc1']:.3f}, \"\n",
    "      f\"Acc@3: {val_metrics['acc3']:.3f}, \"\n",
    "      f\"Acc@5: {val_metrics['acc5']:.3f}\")\n",
    "\n",
    "    if val_acc > best_val_acc:\n",
    "        torch.save(model.state_dict(), \"best_chess_model.pt\")\n",
    "        best_val_acc = val_acc\n",
    "        print(\"Модель сохранена.\")"
   ]
  },
  {
   "cell_type": "code",
   "execution_count": null,
   "id": "897ba4d6",
   "metadata": {},
   "outputs": [],
   "source": [
    "model.load_state_dict(torch.load(\"best_chess_model.pt\", map_location=device))\n",
    "model.eval()\n",
    "\n",
    "fen = \"rnb2rk1/pp3ppp/4p1n1/q1pP4/3P4/1QN1P1B1/PP3PPP/R3KB1R b KQ - 0 11\"\n",
    "top_moves = training.predict_move(model, fen, device, ALL_MOVES, MOVE_TO_INDEX, INDEX_TO_MOVE, top_k=5) #move, prob, all_probs, \n",
    "print(top_moves)"
   ]
  }
 ],
 "metadata": {
  "kernelspec": {
   "display_name": ".venv",
   "language": "python",
   "name": ".venv"
  },
  "language_info": {
   "codemirror_mode": {
    "name": "ipython",
    "version": 3
   },
   "file_extension": ".py",
   "mimetype": "text/x-python",
   "name": "python",
   "nbconvert_exporter": "python",
   "pygments_lexer": "ipython3",
   "version": "3.12.3"
  }
 },
 "nbformat": 4,
 "nbformat_minor": 5
}
