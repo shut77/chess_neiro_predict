{
 "cells": [
  {
   "cell_type": "code",
   "execution_count": 12,
   "id": "52b3d726",
   "metadata": {},
   "outputs": [
    {
     "name": "stdout",
     "output_type": "stream",
     "text": [
      "������� ������� ��������: 1251\n",
      "Requirement already satisfied: chess in c:\\users\\artem\\pycharmprojects\\pythonprojectnaychka\\.venv\\lib\\site-packages (1.11.2)\n"
     ]
    },
    {
     "name": "stderr",
     "output_type": "stream",
     "text": [
      "\n",
      "[notice] A new release of pip is available: 23.2.1 -> 25.2\n",
      "[notice] To update, run: python.exe -m pip install --upgrade pip\n"
     ]
    }
   ],
   "source": [
    "import pandas as pd\n",
    "import numpy as np\n",
    "import torch\n",
    "!pip install chess\n",
    "import chess\n",
    "import chess.engine\n",
    "import pandas as pd\n",
    "\n",
    "import sys, importlib\n",
    "sys.path.append(r\"C:\\Users\\Artem\\Desktop\\vs code project\\chess_forecast\\src\")\n",
    "\n",
    "importlib.reload(importlib.import_module('move'))\n",
    "importlib.reload(importlib.import_module('mymodel'))\n",
    "\n",
    "\n",
    "import move, mymodel"
   ]
  },
  {
   "cell_type": "code",
   "execution_count": 13,
   "id": "9d71be3e",
   "metadata": {},
   "outputs": [
    {
     "data": {
      "text/html": [
       "<div>\n",
       "<style scoped>\n",
       "    .dataframe tbody tr th:only-of-type {\n",
       "        vertical-align: middle;\n",
       "    }\n",
       "\n",
       "    .dataframe tbody tr th {\n",
       "        vertical-align: top;\n",
       "    }\n",
       "\n",
       "    .dataframe thead th {\n",
       "        text-align: right;\n",
       "    }\n",
       "</style>\n",
       "<table border=\"1\" class=\"dataframe\">\n",
       "  <thead>\n",
       "    <tr style=\"text-align: right;\">\n",
       "      <th></th>\n",
       "      <th>fen</th>\n",
       "      <th>move</th>\n",
       "    </tr>\n",
       "  </thead>\n",
       "  <tbody>\n",
       "    <tr>\n",
       "      <th>0</th>\n",
       "      <td>7k/5p1p/p2p1Pr1/1p4pQ/8/P1P5/2pr3P/2R2K2 w - -...</td>\n",
       "      <td>h5f3</td>\n",
       "    </tr>\n",
       "    <tr>\n",
       "      <th>1</th>\n",
       "      <td>5r2/2p3k1/1p3pb1/p1pPr2p/2P1PRP1/3B1R2/PP4K1/8...</td>\n",
       "      <td>g4h5</td>\n",
       "    </tr>\n",
       "    <tr>\n",
       "      <th>2</th>\n",
       "      <td>r2r2k1/p3bpp1/q2Bp2p/2pn4/2b1N1Q1/8/PPP2PPP/3R...</td>\n",
       "      <td>d6e7</td>\n",
       "    </tr>\n",
       "    <tr>\n",
       "      <th>3</th>\n",
       "      <td>8/8/8/7K/1k6/8/6P1/8 w - - 0 1</td>\n",
       "      <td>g2g4</td>\n",
       "    </tr>\n",
       "    <tr>\n",
       "      <th>4</th>\n",
       "      <td>rnbqkb1r/pp3ppp/5n2/3p4/2pP4/3B1N2/PPP2PPP/RNB...</td>\n",
       "      <td>f1e1</td>\n",
       "    </tr>\n",
       "  </tbody>\n",
       "</table>\n",
       "</div>"
      ],
      "text/plain": [
       "                                                 fen  move\n",
       "0  7k/5p1p/p2p1Pr1/1p4pQ/8/P1P5/2pr3P/2R2K2 w - -...  h5f3\n",
       "1  5r2/2p3k1/1p3pb1/p1pPr2p/2P1PRP1/3B1R2/PP4K1/8...  g4h5\n",
       "2  r2r2k1/p3bpp1/q2Bp2p/2pn4/2b1N1Q1/8/PPP2PPP/3R...  d6e7\n",
       "3                     8/8/8/7K/1k6/8/6P1/8 w - - 0 1  g2g4\n",
       "4  rnbqkb1r/pp3ppp/5n2/3p4/2pP4/3B1N2/PPP2PPP/RNB...  f1e1"
      ]
     },
     "execution_count": 13,
     "metadata": {},
     "output_type": "execute_result"
    }
   ],
   "source": [
    "path = '../fens_training_set.csv'\n",
    "df = pd.read_csv(path)\n",
    "df.head(5)"
   ]
  },
  {
   "cell_type": "code",
   "execution_count": 14,
   "id": "32e60783",
   "metadata": {},
   "outputs": [
    {
     "data": {
      "text/plain": [
       "268550"
      ]
     },
     "execution_count": 14,
     "metadata": {},
     "output_type": "execute_result"
    }
   ],
   "source": [
    "len(df)"
   ]
  },
  {
   "cell_type": "code",
   "execution_count": 20,
   "id": "dbd12776",
   "metadata": {},
   "outputs": [],
   "source": [
    "for i in range(len(df)):\n",
    "    fen = df.iloc[i, 0]  \n",
    "    move = df.iloc[i, 1] \n",
    "    try:\n",
    "        board = chess.Board(fen)\n",
    "    except:\n",
    "        print(f\"невалидный FEN: {fen}\")\n",
    "        continue \n",
    "    try:\n",
    "        try:\n",
    "            move_obj = chess.Move.from_uci(move) \n",
    "        except:\n",
    "            move_obj = board.parse_san(move)\n",
    "        if move_obj not in board.legal_moves:\n",
    "            print(f\"некорректный ход1: '{move}' для FEN: {fen},  {i}\")\n",
    "    except:\n",
    "        print(f\"некорректный ход2: '{move}' для FEN: {fen},  {i}\")\n"
   ]
  },
  {
   "cell_type": "code",
   "execution_count": 15,
   "id": "9487f4b5",
   "metadata": {},
   "outputs": [
    {
     "name": "stdout",
     "output_type": "stream",
     "text": [
      "268550\n",
      "fen     1r2qk1r/ppb3pb/2p1P3/4p2p/4n3/1P1N3P/P1P3PB/1R...\n",
      "move                                                 f1h1\n",
      "Name: 232329, dtype: object\n"
     ]
    }
   ],
   "source": [
    "print(len(df))\n",
    "print(df.loc[232329])\n",
    "df = df.drop(232329, axis=0)"
   ]
  },
  {
   "cell_type": "code",
   "execution_count": 16,
   "id": "5396e5f2",
   "metadata": {},
   "outputs": [
    {
     "name": "stdout",
     "output_type": "stream",
     "text": [
      "всего 4208\n",
      "уник 4208\n",
      "\n",
      "Проверка некоторых ходов:\n",
      "e2e4 да, есть. (индекс 827)\n",
      "e7e5 да, есть. (индекс 3444)\n",
      "e1g1 да, есть. (индекс 257)\n",
      "e7e8q да, есть. (индекс 3471)\n",
      "a7b8n да, есть. (индекс 3182)\n"
     ]
    }
   ],
   "source": [
    "ALL_MOVES = move.generate_all_possible_moves()\n",
    "MOVE_TO_INDEX = {m.uci(): i for i, m in enumerate(ALL_MOVES)}\n",
    "INDEX_TO_MOVE = {i: m for i, m in enumerate(ALL_MOVES)}\n",
    "\n",
    "print(f\"всего {len(ALL_MOVES)}\")\n",
    "print(f\"уник {len(MOVE_TO_INDEX)}\")\n",
    "\n",
    "\n",
    "test_moves = [\"e2e4\", \"e7e5\", \"e1g1\", \"e7e8q\", \"a7b8n\"]\n",
    "print(\"\\nПроверка некоторых ходов:\")\n",
    "for move_uci in test_moves:\n",
    "    if move_uci in MOVE_TO_INDEX:\n",
    "        print(f\"{move_uci} да, есть. (индекс {MOVE_TO_INDEX[move_uci]})\")\n",
    "    else:\n",
    "        print(f\"{move_uci} нет\")"
   ]
  },
  {
   "cell_type": "code",
   "execution_count": 19,
   "id": "b0e0a6cf",
   "metadata": {},
   "outputs": [
    {
     "name": "stdout",
     "output_type": "stream",
     "text": [
      "Работаем \n",
      "Ход (индекс): 3182\n",
      "Кол-во легальных ходов : 9\n",
      "Размерность доски (тензора): torch.Size([12, 8, 8])\n",
      "Размерность доп признаков: torch.Size([17])\n",
      "\n",
      "Превращение работает \n",
      "Ход (индекс) : 3175\n"
     ]
    }
   ],
   "source": [
    "# Тест на стандартной начальной позиции\n",
    "test_fen = \"rnbqkbnr/pppppppp/8/8/8/8/PPPPPPPP/RNBQKBNR w KQkq - 0 1\"\n",
    "test_move = \"e2e4\"\n",
    "\n",
    "try:\n",
    "    res = mymodel.neiro_input(fen, move_uci, ALL_MOVES, MOVE_TO_INDEX)\n",
    "    print(f\"Работаем \")\n",
    "    print(f\"Ход (индекс): {res['target_move']}\")\n",
    "    print(f\"Кол-во легальных ходов : {res['legal_moves_mask'].sum().item()}\")\n",
    "    print(f\"Размерность доски (тензора): {res['board'].shape}\")\n",
    "    print(f\"Размерность доп признаков: {res['additional'].shape}\")\n",
    "except Exception as e:\n",
    "    print(f\"Ошибка: {e}\")\n",
    "\n",
    "# Тест с превращением пешки\n",
    "test_fen = \"4k3/P7/8/8/8/8/8/4K3 w - - 0 1\"\n",
    "test_move = \"a7a8q\"\n",
    "\n",
    "try:\n",
    "    res = mymodel.neiro_input(test_fen, test_move, ALL_MOVES, MOVE_TO_INDEX)\n",
    "    print(f\"\\nПревращение работает \")\n",
    "    print(f\"Ход (индекс) : {res['target_move']}\")\n",
    "except Exception as e:\n",
    "    print(f\"\\nОшибка: {e}\")"
   ]
  }
 ],
 "metadata": {
  "kernelspec": {
   "display_name": ".venv",
   "language": "python",
   "name": ".venv"
  },
  "language_info": {
   "name": "python",
   "version": "3.12.3"
  }
 },
 "nbformat": 4,
 "nbformat_minor": 5
}
